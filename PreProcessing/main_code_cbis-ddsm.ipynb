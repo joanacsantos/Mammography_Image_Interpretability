{
 "cells": [
  {
   "cell_type": "markdown",
   "id": "3954573b",
   "metadata": {},
   "source": [
    "# Pre-Processing of the Images of the CBIS-DDSM Dataset\n",
    "\n",
    "The CBIS-DDSM (Curated Breast Imaging Subset of DDSM) is an updated and standardized version of the  Digital Database for Screening Mammography (DDSM).  The DDSM is a database of 2,620 scanned film mammography studies and contains normal, benign, and malignant cases with verified pathology information. \n",
    "The dataset is publicly available for download at: https://wiki.cancerimagingarchive.net/pages/viewpage.action?pageId=22516629"
   ]
  },
  {
   "cell_type": "code",
   "execution_count": null,
   "id": "50621f7f",
   "metadata": {},
   "outputs": [],
   "source": [
    "import matplotlib.pyplot as plt\n",
    "import pydicom\n",
    "import numpy as np\n",
    "import matplotlib\n",
    "import cv2\n",
    "import os\n",
    "import cv2 as cv\n",
    "from PIL import Image\n",
    "from glob import glob\n",
    "directory = \"**\""
   ]
  },
  {
   "cell_type": "code",
   "execution_count": null,
   "id": "b38e3d41",
   "metadata": {},
   "outputs": [],
   "source": [
    "# Setting the dataset directory\n",
    "thisdir = \"**\"\n",
    "\n",
    "files = []\n",
    "# r=root, d=directories, f = files\n",
    "for r, d, f in os.walk(thisdir):\n",
    "    for file in f:\n",
    "        if file.endswith(\".dcm\"):\n",
    "            files.append(os.path.join(r, file))\n",
    "  \n",
    "tt=0\n",
    "images = np.zeros((3568,128,128,1))\n",
    "labels = []\n",
    "for k in files:\n",
    "    dataset = pydicom.dcmread(k)\n",
    "    d = dataset.pixel_array\n",
    "    resized = cv2.resize(d, (128,128), interpolation = cv2.INTER_AREA)\n",
    "    normalized_d = ((resized - np.amin(resized))/(np.amax(resized) - np.amin(resized)) * 255)\n",
    "        \n",
    "    images[tt] = np.expand_dims(normalized_d, axis=(0,3))\n",
    "    labels.append(k.split(\"\\\\\")[6])\n",
    "        \n",
    "    tt = tt +1\n",
    "    if(tt%100 == 0):\n",
    "        print('Saving image: {} of 3568'.format(tt))"
   ]
  },
  {
   "cell_type": "code",
   "execution_count": null,
   "id": "e25ab0a6",
   "metadata": {},
   "outputs": [],
   "source": [
    "np.save('CBIS_DDSM.npy', images)\n",
    "np.save('CBIS_DDSM_labels.npy', labels)"
   ]
  },
  {
   "cell_type": "code",
   "execution_count": null,
   "id": "338e28d7",
   "metadata": {},
   "outputs": [],
   "source": [
    "import pandas as pd\n",
    "import numpy as np\n",
    "\n",
    "df = pd.read_csv(\"CBIS_DDSM_description.csv\") #Concatenation of all the csv files provided by the dataset\n",
    "\n",
    "labels = np.load(\"CBIS_DDSM_labels.npy\")\n",
    "\n",
    "\n",
    "labels_csv =  [None] * 3568\n",
    "\n",
    "for i in range(0,3568):\n",
    "\n",
    "   l_csv = df[\"image file path\"][i].split(\"/\")[0] + '_' + str(df[\"abnormality id\"][i])\n",
    "   \n",
    "   ind = np.where(labels==df[\"image file path\"][i].split(\"/\")[0] + '_' + str(df[\"abnormality id\"][i]))[0][0]\n",
    "   \n",
    "   labels_csv[ind] = [l_csv, df[\"abnormality type\"][i], df[\"pathology\"][i].split(\"_\")[0], df[\"breast_density\"][i], df[\"assessment\"][i], df[\"subtlety\"][i]]\n",
    "   \n",
    "\n",
    "df_new = pd.DataFrame (labels_csv, columns = [\"name\", \"abnormality\", \"pathology\", \"density\", \"birads\", \"subtlety\"])\n",
    "df_new.to_csv('CBIS_DDSM_description_clean.csv')\n",
    "\n",
    "df = pd.read_csv(\"CBIS_DDSM_description_clean.csv\")\n",
    "\n",
    "new_concepts = df[[\"name\"]]\n",
    "\n",
    "for k in  [\"abnormality\", \"pathology\", \"density\", \"birads\", \"subtlety\",\"breast\",\"image_view\",\"mass_shape\",\"mass_margins\",\"calc_type\",\"calc_distribution\"]:\n",
    "    df_new = pd.get_dummies(df[k])\n",
    "\n",
    "    for col in df_new.columns:\n",
    "        df_new = df_new.rename(columns={col: k +\"_\" + str(col)})\n",
    "    new_concepts = pd.concat([new_concepts, df_new], axis =1)\n",
    "\n",
    "new_concepts.to_csv('CBIS_DDSM_description_all_concepts.csv')"
   ]
  }
 ],
 "metadata": {
  "kernelspec": {
   "display_name": "Python 3",
   "language": "python",
   "name": "python3"
  },
  "language_info": {
   "codemirror_mode": {
    "name": "ipython",
    "version": 3
   },
   "file_extension": ".py",
   "mimetype": "text/x-python",
   "name": "python",
   "nbconvert_exporter": "python",
   "pygments_lexer": "ipython3",
   "version": "3.6.13"
  }
 },
 "nbformat": 4,
 "nbformat_minor": 5
}
